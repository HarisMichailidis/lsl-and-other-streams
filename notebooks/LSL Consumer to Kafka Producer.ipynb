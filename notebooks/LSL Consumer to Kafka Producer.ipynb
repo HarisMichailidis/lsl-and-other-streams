{
 "cells": [
  {
   "cell_type": "code",
   "execution_count": 1,
   "id": "desperate-cabinet",
   "metadata": {},
   "outputs": [],
   "source": [
    "from confluent_kafka import Producer\n",
    "from pylsl import StreamInlet, resolve_stream\n",
    "from time import sleep\n",
    "import json\n",
    "import uuid"
   ]
  },
  {
   "cell_type": "code",
   "execution_count": null,
   "id": "destroyed-philadelphia",
   "metadata": {},
   "outputs": [],
   "source": []
  },
  {
   "cell_type": "code",
   "execution_count": 2,
   "id": "sapphire-announcement",
   "metadata": {},
   "outputs": [],
   "source": [
    "topic = 'lsl-test-2'\n",
    "max_messages = 10\n",
    "pause_time = 10 #sec\n",
    "callback_timeout = 5 #sec\n",
    "\n",
    "conf = {\n",
    "    'bootstrap.servers': \"localhost:9092\",\n",
    "    'client.id': 'jupyter-kafka-producer'\n",
    "}"
   ]
  },
  {
   "cell_type": "code",
   "execution_count": 4,
   "id": "strategic-prairie",
   "metadata": {},
   "outputs": [],
   "source": [
    "def callback(error, msg):\n",
    "    if error is not None:\n",
    "        print(\"Failed to deliver message: %s: %s\" % (str(msg), str(error)))\n",
    "    else:\n",
    "        print(\"Message produced: %s\" % (str(msg)))"
   ]
  },
  {
   "cell_type": "code",
   "execution_count": null,
   "id": "assured-nursing",
   "metadata": {},
   "outputs": [],
   "source": []
  },
  {
   "cell_type": "code",
   "execution_count": null,
   "id": "boring-confusion",
   "metadata": {},
   "outputs": [],
   "source": [
    "# LSL consumer"
   ]
  },
  {
   "cell_type": "code",
   "execution_count": 3,
   "id": "remarkable-basement",
   "metadata": {},
   "outputs": [
    {
     "name": "stdout",
     "output_type": "stream",
     "text": [
      "[<pylsl.pylsl.StreamInfo object at 0x105f94b20>]\n"
     ]
    }
   ],
   "source": [
    "streams = resolve_stream('type', 'Test')\n",
    "print(streams)"
   ]
  },
  {
   "cell_type": "code",
   "execution_count": 4,
   "id": "durable-accused",
   "metadata": {},
   "outputs": [
    {
     "name": "stdout",
     "output_type": "stream",
     "text": [
      "[<pylsl.pylsl.StreamInfo object at 0x105f94ca0>]\n"
     ]
    }
   ],
   "source": [
    "streams = resolve_stream('name', 'lsl-test-1')\n",
    "print(streams)"
   ]
  },
  {
   "cell_type": "code",
   "execution_count": 12,
   "id": "moving-honor",
   "metadata": {},
   "outputs": [
    {
     "data": {
      "text/plain": [
       "'lalala123'"
      ]
     },
     "execution_count": 12,
     "metadata": {},
     "output_type": "execute_result"
    }
   ],
   "source": [
    "streams[0].source_id()"
   ]
  },
  {
   "cell_type": "code",
   "execution_count": null,
   "id": "enabling-campus",
   "metadata": {},
   "outputs": [],
   "source": []
  },
  {
   "cell_type": "code",
   "execution_count": null,
   "id": "alike-probability",
   "metadata": {},
   "outputs": [],
   "source": []
  },
  {
   "cell_type": "code",
   "execution_count": null,
   "id": "amino-person",
   "metadata": {},
   "outputs": [],
   "source": [
    "inlet = StreamInlet(streams[0])"
   ]
  },
  {
   "cell_type": "code",
   "execution_count": 3,
   "id": "considered-prevention",
   "metadata": {},
   "outputs": [
    {
     "name": "stdout",
     "output_type": "stream",
     "text": [
      "looking for an EEG stream...\n",
      "[<pylsl.pylsl.StreamInfo object at 0x11109ff70>]\n"
     ]
    }
   ],
   "source": [
    "print(\"looking for an EEG stream...\")\n",
    "streams = resolve_stream('type', 'Test')\n",
    "print(streams)\n",
    "# create a new inlet to read from the stream\n",
    "inlet = StreamInlet(streams[0])"
   ]
  },
  {
   "cell_type": "code",
   "execution_count": 5,
   "id": "abandoned-imagination",
   "metadata": {},
   "outputs": [
    {
     "data": {
      "text/plain": [
       "{'obj': c_void_p(140406094904912)}"
      ]
     },
     "execution_count": 5,
     "metadata": {},
     "output_type": "execute_result"
    }
   ],
   "source": [
    "streams[0].__dict__"
   ]
  },
  {
   "cell_type": "code",
   "execution_count": null,
   "id": "running-projector",
   "metadata": {},
   "outputs": [],
   "source": []
  },
  {
   "cell_type": "code",
   "execution_count": 4,
   "id": "sacred-petite",
   "metadata": {},
   "outputs": [
    {
     "data": {
      "text/plain": [
       "{'obj': c_void_p(140406156113920),\n",
       " 'channel_format': 1,\n",
       " 'channel_count': 8,\n",
       " 'do_pull_sample': <_FuncPtr object at 0x1110a9400>,\n",
       " 'do_pull_chunk': <_FuncPtr object at 0x1110aac40>,\n",
       " 'value_type': ctypes.c_float,\n",
       " 'sample_type': pylsl.pylsl.c_float_Array_8,\n",
       " 'sample': <pylsl.pylsl.c_float_Array_8 at 0x11104e8c0>,\n",
       " 'buffers': {}}"
      ]
     },
     "execution_count": 4,
     "metadata": {},
     "output_type": "execute_result"
    }
   ],
   "source": [
    "inlet.__dict__"
   ]
  },
  {
   "cell_type": "code",
   "execution_count": 54,
   "id": "casual-sperm",
   "metadata": {},
   "outputs": [
    {
     "data": {
      "text/plain": [
       "'lsl-test-2'"
      ]
     },
     "execution_count": 54,
     "metadata": {},
     "output_type": "execute_result"
    }
   ],
   "source": [
    "inlet.info().name()"
   ]
  },
  {
   "cell_type": "code",
   "execution_count": 55,
   "id": "lyric-possibility",
   "metadata": {},
   "outputs": [
    {
     "data": {
      "text/plain": [
       "'Test'"
      ]
     },
     "execution_count": 55,
     "metadata": {},
     "output_type": "execute_result"
    }
   ],
   "source": [
    "inlet.info().type()"
   ]
  },
  {
   "cell_type": "code",
   "execution_count": 57,
   "id": "lucky-syria",
   "metadata": {},
   "outputs": [
    {
     "data": {
      "text/plain": [
       "'lalala123'"
      ]
     },
     "execution_count": 57,
     "metadata": {},
     "output_type": "execute_result"
    }
   ],
   "source": [
    "inlet.info().source_id()"
   ]
  },
  {
   "cell_type": "code",
   "execution_count": null,
   "id": "friendly-setting",
   "metadata": {},
   "outputs": [],
   "source": []
  },
  {
   "cell_type": "code",
   "execution_count": 51,
   "id": "noble-copyright",
   "metadata": {},
   "outputs": [
    {
     "data": {
      "text/plain": [
       "-1.8418999388813972e-05"
      ]
     },
     "execution_count": 51,
     "metadata": {},
     "output_type": "execute_result"
    }
   ],
   "source": [
    "inlet.time_correction()"
   ]
  },
  {
   "cell_type": "code",
   "execution_count": null,
   "id": "decreased-england",
   "metadata": {},
   "outputs": [],
   "source": []
  },
  {
   "cell_type": "code",
   "execution_count": null,
   "id": "minor-round",
   "metadata": {},
   "outputs": [],
   "source": []
  },
  {
   "cell_type": "code",
   "execution_count": null,
   "id": "radical-communist",
   "metadata": {},
   "outputs": [],
   "source": []
  },
  {
   "cell_type": "code",
   "execution_count": null,
   "id": "valuable-faculty",
   "metadata": {},
   "outputs": [],
   "source": [
    "while True:\n",
    "    # get a new sample (you can also omit the timestamp part if you're not\n",
    "    # interested in it)\n",
    "    raw_sample, raw_timestamp = inlet.pull_sample(5.0)\n",
    "    if raw_sample:\n",
    "        sample=raw_sample\n",
    "        timestamp=raw_timestamp\n",
    "        time_correction = inlet.time_correction()\n",
    "        print(timestamp, time_correction, sample)"
   ]
  },
  {
   "cell_type": "code",
   "execution_count": null,
   "id": "enormous-position",
   "metadata": {},
   "outputs": [],
   "source": []
  },
  {
   "cell_type": "code",
   "execution_count": null,
   "id": "allied-briefing",
   "metadata": {},
   "outputs": [],
   "source": [
    "sample"
   ]
  },
  {
   "cell_type": "code",
   "execution_count": null,
   "id": "universal-willow",
   "metadata": {},
   "outputs": [],
   "source": [
    "timestamp"
   ]
  },
  {
   "cell_type": "code",
   "execution_count": null,
   "id": "swedish-equation",
   "metadata": {},
   "outputs": [],
   "source": []
  },
  {
   "cell_type": "code",
   "execution_count": null,
   "id": "fuzzy-argentina",
   "metadata": {},
   "outputs": [],
   "source": []
  },
  {
   "cell_type": "code",
   "execution_count": null,
   "id": "built-watch",
   "metadata": {},
   "outputs": [],
   "source": []
  },
  {
   "cell_type": "code",
   "execution_count": 9,
   "id": "thousand-learning",
   "metadata": {},
   "outputs": [],
   "source": [
    "def sample_encoder(timestamp, sample):\n",
    "    sample_dict = dict([ (i,s) for i,s in enumerate(sample)])\n",
    "    sample_dict['timestamp'] = timestamp\n",
    "    return json.dumps(sample_dict)"
   ]
  },
  {
   "cell_type": "code",
   "execution_count": null,
   "id": "constitutional-compound",
   "metadata": {},
   "outputs": [],
   "source": [
    "se = sample_encoder(timestamp,sample)\n",
    "se"
   ]
  },
  {
   "cell_type": "code",
   "execution_count": null,
   "id": "seeing-hacker",
   "metadata": {},
   "outputs": [],
   "source": []
  },
  {
   "cell_type": "code",
   "execution_count": 10,
   "id": "celtic-bread",
   "metadata": {},
   "outputs": [],
   "source": [
    "def sample_decoder(encoded_sample: str):\n",
    "    encoded_sample_dict = json.loads(encoded_sample)\n",
    "\n",
    "    timestamp = None\n",
    "    if \"timestamp\" in encoded_sample_dict.keys():\n",
    "        timestamp = encoded_sample_dict.pop('timestamp')\n",
    "\n",
    "    sample_keys = list(encoded_sample_dict.keys())\n",
    "    sample_keys.sort(reverse=False)\n",
    "\n",
    "    sample = []\n",
    "    for k in sample_keys:\n",
    "        sample.append(encoded_sample_dict[k])\n",
    "\n",
    "    return timestamp, sample"
   ]
  },
  {
   "cell_type": "code",
   "execution_count": null,
   "id": "unable-variable",
   "metadata": {},
   "outputs": [],
   "source": [
    "sd = sample_decoder(se)\n",
    "sd"
   ]
  },
  {
   "cell_type": "code",
   "execution_count": null,
   "id": "otherwise-magnet",
   "metadata": {},
   "outputs": [],
   "source": [
    "type(sd[0]),type(sd[1][2])"
   ]
  },
  {
   "cell_type": "code",
   "execution_count": null,
   "id": "exposed-archive",
   "metadata": {},
   "outputs": [],
   "source": []
  },
  {
   "cell_type": "code",
   "execution_count": null,
   "id": "secondary-liquid",
   "metadata": {},
   "outputs": [],
   "source": []
  },
  {
   "cell_type": "code",
   "execution_count": 7,
   "id": "generic-ecology",
   "metadata": {},
   "outputs": [],
   "source": [
    "producer = Producer(conf)"
   ]
  },
  {
   "cell_type": "code",
   "execution_count": 11,
   "id": "coupled-ancient",
   "metadata": {},
   "outputs": [
    {
     "name": "stdout",
     "output_type": "stream",
     "text": [
      "looking for an EEG stream...\n",
      "[<pylsl.pylsl.StreamInfo object at 0x10ecce3a0>]\n"
     ]
    }
   ],
   "source": [
    "print(\"looking for an EEG stream...\")\n",
    "streams = resolve_stream('type', 'EEG')\n",
    "print(streams)\n",
    "# create a new inlet to read from the stream\n",
    "inlet = StreamInlet(streams[0])"
   ]
  },
  {
   "cell_type": "code",
   "execution_count": null,
   "id": "given-berkeley",
   "metadata": {},
   "outputs": [],
   "source": []
  },
  {
   "cell_type": "code",
   "execution_count": 13,
   "id": "disturbed-imaging",
   "metadata": {},
   "outputs": [
    {
     "name": "stdout",
     "output_type": "stream",
     "text": [
      "\n",
      "Polling...\n",
      "1614211473.4301162 -6.173248402774334e-05 [152.0, 0.941787838935852, 0.9245811700820923, 0.4275631606578827, 0.9112218618392944, 0.6753268241882324, 0.09600523114204407, 0.8444649577140808]\n",
      "Sending message with key: 0a4ae09e-895d-4ddd-9963-05dadfdd76e2\n",
      "Waiting for the callback\n",
      "Message produced: <cimpl.Message object at 0x1134442c0>\n",
      "Making it sync by flushing\n",
      "\n",
      "Polling...\n",
      "1614211473.430201 -6.173248402774334e-05 [153.0, 0.27271273732185364, 0.3871886432170868, 0.9964645504951477, 0.584395706653595, 0.808883786201477, 0.5599417090415955, 0.27649471163749695]\n",
      "Sending message with key: 68b10515-53ea-4aa1-a009-32de10e8f24b\n",
      "Waiting for the callback\n",
      "Message produced: <cimpl.Message object at 0x10ec7fb40>\n",
      "Making it sync by flushing\n",
      "\n",
      "Polling...\n",
      "\n",
      "Polling...\n",
      "1614211483.430964 -2.44865077547729e-05 [154.0, 0.09962121397256851, 0.05792103707790375, 0.5017016530036926, 0.6539220213890076, 0.4513823688030243, 0.9464772343635559, 0.12815485894680023]\n",
      "Sending message with key: b74d3d2a-eafe-4f89-9c1a-f6db18dcee9a\n",
      "Waiting for the callback\n",
      "Message produced: <cimpl.Message object at 0x1134442c0>\n",
      "Making it sync by flushing\n",
      "\n",
      "Polling...\n",
      "1614211483.431034 -2.44865077547729e-05 [155.0, 0.8970159292221069, 0.08788751810789108, 0.3540610671043396, 0.546682596206665, 0.18019592761993408, 0.38926342129707336, 0.2962622344493866]\n",
      "Sending message with key: 734efd1f-cf19-4e9a-8345-7294b416eada\n",
      "Waiting for the callback\n",
      "Message produced: <cimpl.Message object at 0x10ec7fb40>\n",
      "Making it sync by flushing\n",
      "\n",
      "Polling...\n",
      "\n",
      "Polling...\n",
      "1614211493.431653 -3.157695755362511e-05 [156.0, 0.21751172840595245, 0.48043543100357056, 0.05142218992114067, 0.5895995497703552, 0.7987752556800842, 0.8399694561958313, 0.5894041061401367]\n",
      "Sending message with key: 1c25cdd5-ac4b-44e5-975b-f59c66d46d92\n",
      "Waiting for the callback\n",
      "Message produced: <cimpl.Message object at 0x1134442c0>\n",
      "Making it sync by flushing\n",
      "\n",
      "Polling...\n",
      "1614211493.43171 -3.157695755362511e-05 [157.0, 0.8655388951301575, 0.06749580055475235, 0.6088572144508362, 0.5801777839660645, 0.681684136390686, 0.288044810295105, 0.14193926751613617]\n",
      "Sending message with key: b624850c-acc1-4098-9d8b-be9c2b0d13e1\n",
      "Waiting for the callback\n",
      "Message produced: <cimpl.Message object at 0x10ec7fb40>\n",
      "Making it sync by flushing\n",
      "\n",
      "Polling...\n",
      "\n",
      "Polling...\n",
      "1614211503.431943 -2.7930480428040028e-05 [158.0, 0.7915131449699402, 0.8399581909179688, 0.4595641493797302, 0.6769031882286072, 0.5771099328994751, 0.7543113231658936, 0.26883411407470703]\n",
      "Sending message with key: 55f17ae3-ecde-4867-b792-591475033f9a\n",
      "Waiting for the callback\n",
      "Message produced: <cimpl.Message object at 0x1134442c0>\n",
      "Making it sync by flushing\n",
      "\n",
      "Polling...\n",
      "1614211503.431982 -2.7930480428040028e-05 [159.0, 0.9500017762184143, 0.07654456794261932, 0.16715307533740997, 0.23742644488811493, 0.6341089606285095, 0.8992960453033447, 0.9180975556373596]\n",
      "Sending message with key: 1d262fea-7760-404a-87a3-d1f9a97dd367\n",
      "Waiting for the callback\n",
      "Message produced: <cimpl.Message object at 0x10ec7fb40>\n",
      "Making it sync by flushing\n",
      "\n",
      "Polling...\n",
      "\n",
      "Polling...\n",
      "1614211513.434121 -2.8447015210986137e-05 [160.0, 0.9466331005096436, 0.8464990258216858, 0.7531787753105164, 0.18005630373954773, 0.7087486386299133, 0.7409069538116455, 0.3009203374385834]\n",
      "Sending message with key: 76a7cc64-dc2b-4a0f-a47e-4f2d4715cc8c\n",
      "Waiting for the callback\n",
      "Message produced: <cimpl.Message object at 0x1134442c0>\n",
      "Making it sync by flushing\n",
      "\n",
      "Polling...\n",
      "1614211513.4341838 -2.8447015210986137e-05 [161.0, 0.8180614709854126, 0.42370447516441345, 0.7405015826225281, 0.9507536292076111, 0.10788868367671967, 0.018907397985458374, 0.9005380868911743]\n",
      "Sending message with key: eeb5b5b1-d6ee-47e1-9195-55e024c07115\n",
      "Waiting for the callback\n",
      "Message produced: <cimpl.Message object at 0x10ec7fb40>\n",
      "Making it sync by flushing\n",
      "\n",
      "Polling...\n",
      "\n",
      "Polling...\n",
      "1614211523.437286 -2.8004462365061045e-05 [162.0, 0.21669083833694458, 0.13265779614448547, 0.3029435873031616, 0.7533544898033142, 0.37395691871643066, 0.18835267424583435, 0.2804900109767914]\n",
      "Sending message with key: c15440b9-f8d0-4b7a-8c64-bafb1d8118a5\n",
      "Waiting for the callback\n",
      "Message produced: <cimpl.Message object at 0x1134442c0>\n",
      "Making it sync by flushing\n",
      "\n",
      "Polling...\n",
      "1614211523.437352 -2.8004462365061045e-05 [163.0, 0.5606134533882141, 0.09338163584470749, 0.571906566619873, 0.7722943425178528, 0.8363357186317444, 0.30968210101127625, 0.4622249901294708]\n",
      "Sending message with key: ae51d58c-f2f6-4e74-b1ec-24f356ff792c\n",
      "Waiting for the callback\n",
      "Message produced: <cimpl.Message object at 0x10ec7fb40>\n",
      "Making it sync by flushing\n",
      "\n",
      "Polling...\n",
      "\n",
      "Polling...\n",
      "1614211533.441667 -3.205548273399472e-05 [164.0, 0.4302801787853241, 0.9390247464179993, 0.865149736404419, 0.45209428668022156, 0.14799538254737854, 0.14566221833229065, 0.405314564704895]\n",
      "Sending message with key: 19d8fd02-5e85-470a-8dc7-aa6e8741228a\n",
      "Waiting for the callback\n",
      "Message produced: <cimpl.Message object at 0x1134442c0>\n",
      "Making it sync by flushing\n",
      "\n",
      "Polling...\n",
      "1614211533.441695 -3.205548273399472e-05 [165.0, 0.5529701113700867, 0.7665945887565613, 0.30351588129997253, 0.5382834076881409, 0.8900428414344788, 0.9906998872756958, 0.37321290373802185]\n",
      "Sending message with key: 27c88326-a4d0-43a0-987b-aa6f1930ed0c\n",
      "Waiting for the callback\n",
      "Message produced: <cimpl.Message object at 0x10ec7fb40>\n",
      "Making it sync by flushing\n",
      "\n",
      "Polling...\n",
      "\n",
      "Polling...\n",
      "1614211543.44555 -2.9893009923398495e-05 [166.0, 0.33397752046585083, 0.8993945717811584, 0.8377377986907959, 0.6445891261100769, 0.7127635478973389, 0.7000927925109863, 0.3329186737537384]\n",
      "Sending message with key: f8a1cb4c-6a25-4a15-86f3-d4dfe253d975\n",
      "Waiting for the callback\n",
      "Message produced: <cimpl.Message object at 0x1134442c0>\n",
      "Making it sync by flushing\n",
      "\n",
      "Polling...\n",
      "1614211543.4458702 -2.9893009923398495e-05 [167.0, 0.9286897778511047, 0.7729793190956116, 0.9485781192779541, 0.8710373044013977, 0.6648320555686951, 0.9484050869941711, 0.48091360926628113]\n",
      "Sending message with key: 54426b3e-6444-4544-aaeb-22fef2ddb1d8\n",
      "Waiting for the callback\n",
      "Message produced: <cimpl.Message object at 0x10ec7fb40>\n",
      "Making it sync by flushing\n",
      "\n",
      "Polling...\n"
     ]
    },
    {
     "ename": "KeyboardInterrupt",
     "evalue": "",
     "output_type": "error",
     "traceback": [
      "\u001b[0;31m---------------------------------------------------------------------------\u001b[0m",
      "\u001b[0;31mKeyboardInterrupt\u001b[0m                         Traceback (most recent call last)",
      "\u001b[0;32m<ipython-input-13-49318c903a17>\u001b[0m in \u001b[0;36m<module>\u001b[0;34m\u001b[0m\n\u001b[1;32m      1\u001b[0m \u001b[0;32mwhile\u001b[0m \u001b[0;32mTrue\u001b[0m\u001b[0;34m:\u001b[0m\u001b[0;34m\u001b[0m\u001b[0;34m\u001b[0m\u001b[0m\n\u001b[1;32m      2\u001b[0m     \u001b[0mprint\u001b[0m\u001b[0;34m(\u001b[0m\u001b[0;34m\"\\nPolling...\"\u001b[0m\u001b[0;34m)\u001b[0m\u001b[0;34m\u001b[0m\u001b[0;34m\u001b[0m\u001b[0m\n\u001b[0;32m----> 3\u001b[0;31m     \u001b[0mraw_sample\u001b[0m\u001b[0;34m,\u001b[0m \u001b[0mraw_timestamp\u001b[0m \u001b[0;34m=\u001b[0m \u001b[0minlet\u001b[0m\u001b[0;34m.\u001b[0m\u001b[0mpull_sample\u001b[0m\u001b[0;34m(\u001b[0m\u001b[0;36m5.0\u001b[0m\u001b[0;34m)\u001b[0m\u001b[0;34m\u001b[0m\u001b[0;34m\u001b[0m\u001b[0m\n\u001b[0m\u001b[1;32m      4\u001b[0m \u001b[0;34m\u001b[0m\u001b[0m\n\u001b[1;32m      5\u001b[0m     \u001b[0;32mif\u001b[0m \u001b[0mraw_sample\u001b[0m\u001b[0;34m:\u001b[0m\u001b[0;34m\u001b[0m\u001b[0;34m\u001b[0m\u001b[0m\n",
      "\u001b[0;32m~/dev/lsl-and-other-streams/.venv/lib/python3.9/site-packages/pylsl/pylsl.py\u001b[0m in \u001b[0;36mpull_sample\u001b[0;34m(self, timeout, sample)\u001b[0m\n\u001b[1;32m    794\u001b[0m \u001b[0;34m\u001b[0m\u001b[0m\n\u001b[1;32m    795\u001b[0m         \u001b[0merrcode\u001b[0m \u001b[0;34m=\u001b[0m \u001b[0mc_int\u001b[0m\u001b[0;34m(\u001b[0m\u001b[0;34m)\u001b[0m\u001b[0;34m\u001b[0m\u001b[0;34m\u001b[0m\u001b[0m\n\u001b[0;32m--> 796\u001b[0;31m         timestamp = self.do_pull_sample(self.obj, byref(self.sample),\n\u001b[0m\u001b[1;32m    797\u001b[0m                                         \u001b[0mself\u001b[0m\u001b[0;34m.\u001b[0m\u001b[0mchannel_count\u001b[0m\u001b[0;34m,\u001b[0m \u001b[0mc_double\u001b[0m\u001b[0;34m(\u001b[0m\u001b[0mtimeout\u001b[0m\u001b[0;34m)\u001b[0m\u001b[0;34m,\u001b[0m\u001b[0;34m\u001b[0m\u001b[0;34m\u001b[0m\u001b[0m\n\u001b[1;32m    798\u001b[0m                                         byref(errcode))\n",
      "\u001b[0;31mKeyboardInterrupt\u001b[0m: "
     ]
    }
   ],
   "source": [
    "while True:\n",
    "    print(\"\\nPolling...\")\n",
    "    raw_sample, raw_timestamp = inlet.pull_sample(5.0)\n",
    "    \n",
    "    if raw_sample:\n",
    "        sample=raw_sample\n",
    "        timestamp=raw_timestamp\n",
    "        time_correction = inlet.time_correction()\n",
    "        print(timestamp, time_correction, sample)\n",
    "    \n",
    "        key = str(uuid.uuid4())\n",
    "        print(\"Sending message with key: {}\".format(key))\n",
    "        producer.produce(\n",
    "            topic=topic, \n",
    "            key=key,\n",
    "            value=sample_encoder(timestamp, sample),\n",
    "            timestamp=int(timestamp),\n",
    "            callback=callback\n",
    "        )\n",
    "\n",
    "        # Wait up to <callback_timeout> second for events. Callbacks will be invoked during\n",
    "        # this method call if the message is acknowledged.\n",
    "        print(\"Waiting for the callback\")\n",
    "        producer.poll(callback_timeout)\n",
    "\n",
    "        print(\"Making it sync by flushing\")\n",
    "        producer.flush()\n",
    "\n",
    "#     print(\"Sleeping for {} sec\".format(pause_time))\n",
    "#     sleep(pause_time)\n"
   ]
  },
  {
   "cell_type": "code",
   "execution_count": null,
   "id": "damaged-record",
   "metadata": {},
   "outputs": [],
   "source": []
  }
 ],
 "metadata": {
  "kernelspec": {
   "display_name": "lsl-and-other-streams",
   "language": "python",
   "name": "lsl-and-other-streams"
  },
  "language_info": {
   "codemirror_mode": {
    "name": "ipython",
    "version": 3
   },
   "file_extension": ".py",
   "mimetype": "text/x-python",
   "name": "python",
   "nbconvert_exporter": "python",
   "pygments_lexer": "ipython3",
   "version": "3.9.2"
  }
 },
 "nbformat": 4,
 "nbformat_minor": 5
}
