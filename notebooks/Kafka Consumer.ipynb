{
 "cells": [
  {
   "cell_type": "code",
   "execution_count": 8,
   "id": "rental-enlargement",
   "metadata": {},
   "outputs": [],
   "source": [
    "from confluent_kafka import Consumer, KafkaError"
   ]
  },
  {
   "cell_type": "code",
   "execution_count": null,
   "id": "broad-access",
   "metadata": {},
   "outputs": [],
   "source": []
  },
  {
   "cell_type": "code",
   "execution_count": 9,
   "id": "academic-eagle",
   "metadata": {},
   "outputs": [],
   "source": [
    "def error_cb(error):\n",
    "    print(\"Callback error: {}\".format(error))"
   ]
  },
  {
   "cell_type": "code",
   "execution_count": 10,
   "id": "former-plaza",
   "metadata": {},
   "outputs": [],
   "source": [
    "topic = 'lsl-test-1'\n",
    "poll_timeout = 20 #sec\n",
    "\n",
    "conf = {\n",
    "    'bootstrap.servers': 'localhost:9092',\n",
    "    'group.id': 'jupyter-consumer-1',\n",
    "    'auto.offset.reset': 'earliest',\n",
    "    'error_cb': error_cb\n",
    "}"
   ]
  },
  {
   "cell_type": "code",
   "execution_count": null,
   "id": "lonely-relaxation",
   "metadata": {},
   "outputs": [],
   "source": []
  },
  {
   "cell_type": "code",
   "execution_count": 11,
   "id": "honest-luxembourg",
   "metadata": {},
   "outputs": [],
   "source": [
    "consumer = Consumer(conf)"
   ]
  },
  {
   "cell_type": "code",
   "execution_count": 12,
   "id": "cutting-speaker",
   "metadata": {},
   "outputs": [
    {
     "name": "stdout",
     "output_type": "stream",
     "text": [
      "Received message: key:7  |value:value of key: 7\n",
      "Received message: key:8  |value:value of key: 8\n",
      "Received message: key:9  |value:value of key: 9\n",
      "Poll timeout reached, exiting\n"
     ]
    }
   ],
   "source": [
    "consumer.subscribe([topic])\n",
    " \n",
    "while True:\n",
    "    msg = consumer.poll(poll_timeout)\n",
    " \n",
    "    if msg is None:\n",
    "        print(\"Poll timeout reached, exiting\")\n",
    "        break\n",
    "    if msg.error():\n",
    "        print(\"Consumer error: {}\".format(msg.error()))\n",
    "        continue\n",
    " \n",
    "    print('Received message: key:{}  |value:{}'.format(msg.key().decode('utf-8'),msg.value().decode('utf-8')))\n",
    " \n",
    "consumer.close()"
   ]
  },
  {
   "cell_type": "code",
   "execution_count": null,
   "id": "chronic-lyric",
   "metadata": {},
   "outputs": [],
   "source": []
  },
  {
   "cell_type": "code",
   "execution_count": null,
   "id": "remarkable-knitting",
   "metadata": {},
   "outputs": [],
   "source": []
  },
  {
   "cell_type": "code",
   "execution_count": null,
   "id": "exotic-collectible",
   "metadata": {},
   "outputs": [],
   "source": []
  },
  {
   "cell_type": "code",
   "execution_count": null,
   "id": "liberal-strap",
   "metadata": {},
   "outputs": [],
   "source": [
    "def consume(consumer, timeout):\n",
    "    while True:\n",
    "        message = consumer.poll(timeout)\n",
    "        if message is None:\n",
    "            continue\n",
    "        if message.error():\n",
    "            print(\"Consumer error: {}\".format(message.error()))\n",
    "            continue\n",
    "        yield message\n",
    "    consumer.close()"
   ]
  },
  {
   "cell_type": "code",
   "execution_count": null,
   "id": "adequate-reason",
   "metadata": {},
   "outputs": [],
   "source": [
    "def confluent_consumer():\n",
    "    consumer.subscribe([topic])\n",
    "    for msg in consume(consumer, timeout):\n",
    "        print(msg)"
   ]
  },
  {
   "cell_type": "code",
   "execution_count": null,
   "id": "aquatic-suicide",
   "metadata": {},
   "outputs": [],
   "source": []
  },
  {
   "cell_type": "code",
   "execution_count": null,
   "id": "spatial-upper",
   "metadata": {},
   "outputs": [],
   "source": [
    "confluent_consumer()"
   ]
  }
 ],
 "metadata": {
  "kernelspec": {
   "display_name": "lsl-and-other-streams",
   "language": "python",
   "name": "lsl-and-other-streams"
  },
  "language_info": {
   "codemirror_mode": {
    "name": "ipython",
    "version": 3
   },
   "file_extension": ".py",
   "mimetype": "text/x-python",
   "name": "python",
   "nbconvert_exporter": "python",
   "pygments_lexer": "ipython3",
   "version": "3.9.2"
  }
 },
 "nbformat": 4,
 "nbformat_minor": 5
}
