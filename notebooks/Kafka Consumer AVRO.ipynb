{
 "cells": [
  {
   "cell_type": "code",
   "execution_count": 1,
   "id": "rental-enlargement",
   "metadata": {},
   "outputs": [],
   "source": [
    "from confluent_kafka import Consumer, KafkaError\n",
    "from confluent_kafka import DeserializingConsumer\n",
    "from confluent_kafka.schema_registry import SchemaRegistryClient\n",
    "from confluent_kafka.schema_registry.avro import AvroDeserializer\n",
    "from confluent_kafka.serialization import StringDeserializer"
   ]
  },
  {
   "cell_type": "code",
   "execution_count": 2,
   "id": "dominant-afghanistan",
   "metadata": {},
   "outputs": [],
   "source": [
    "import yaml"
   ]
  },
  {
   "cell_type": "code",
   "execution_count": 3,
   "id": "egyptian-miracle",
   "metadata": {},
   "outputs": [
    {
     "name": "stdout",
     "output_type": "stream",
     "text": [
      "{'lsl': {'srate': 1, 'name': 'lsl-test-1', 'type': 'Test', 'n_channels': 100, 'source_id': 'lalala123', 'producer_sleep': 5, 'pulling_timeout': 10}, 'kafka': {'bootstrap_servers': 'localhost:9092', 'topic': 'lsl-test-5-avro', 'schema_registry': 'http://localhost:8081/', 'schema_path': 'schemas/lsl.sample.FloatArray.avsc', 'producer': {'client_id': 'jupyter-kafka-producer-1', 'callback_timeout': 5}, 'consumer': {'group_id': 'jupyter-kafka-consumer-1', 'auto_offset_reset': 'earliest', 'poll_timeout': 20}}}\n"
     ]
    }
   ],
   "source": [
    "with open(\"../src/config.yml\", 'r') as stream:\n",
    "    try:\n",
    "        print(yaml.safe_load(stream))\n",
    "    except yaml.YAMLError as exc:\n",
    "        print(exc)"
   ]
  },
  {
   "cell_type": "code",
   "execution_count": null,
   "id": "broad-access",
   "metadata": {},
   "outputs": [],
   "source": []
  },
  {
   "cell_type": "code",
   "execution_count": null,
   "id": "academic-eagle",
   "metadata": {},
   "outputs": [],
   "source": []
  },
  {
   "cell_type": "code",
   "execution_count": 4,
   "id": "former-plaza",
   "metadata": {},
   "outputs": [],
   "source": [
    "topic = 'lsl-test-5-avro'\n",
    "poll_timeout = 20 #sec"
   ]
  },
  {
   "cell_type": "code",
   "execution_count": null,
   "id": "lonely-relaxation",
   "metadata": {},
   "outputs": [],
   "source": []
  },
  {
   "cell_type": "code",
   "execution_count": 5,
   "id": "interpreted-mills",
   "metadata": {},
   "outputs": [],
   "source": [
    "sample_schema_str = \"\"\"\n",
    "{\n",
    "  \"name\": \"lsl.sample.FloatArray\",\n",
    "  \"type\": \"record\",\n",
    "  \"fields\": [\n",
    "    {\n",
    "      \"name\": \"timestamp\",\n",
    "      \"type\": \"float\"\n",
    "    },\n",
    "    {\n",
    "      \"name\": \"sample\",\n",
    "      \"type\": {\n",
    "        \"type\": \"array\",\n",
    "        \"items\": \"float\"\n",
    "      }\n",
    "    }\n",
    "  ]\n",
    "}\"\"\""
   ]
  },
  {
   "cell_type": "code",
   "execution_count": 6,
   "id": "composite-bargain",
   "metadata": {},
   "outputs": [],
   "source": [
    "sr_conf = {'url': \"http://localhost:8081\"}\n",
    "schema_registry_client = SchemaRegistryClient(sr_conf)"
   ]
  },
  {
   "cell_type": "code",
   "execution_count": 7,
   "id": "verified-payday",
   "metadata": {},
   "outputs": [],
   "source": [
    "avro_deserializer = AvroDeserializer(sample_schema_str,\n",
    "                                         schema_registry_client)"
   ]
  },
  {
   "cell_type": "code",
   "execution_count": null,
   "id": "behind-evaluation",
   "metadata": {},
   "outputs": [],
   "source": []
  },
  {
   "cell_type": "code",
   "execution_count": 8,
   "id": "spiritual-burner",
   "metadata": {},
   "outputs": [],
   "source": [
    "consumer_conf = {'bootstrap.servers': 'localhost:9092',\n",
    "                     'key.deserializer': None,\n",
    "                     'value.deserializer': avro_deserializer,\n",
    "                     'group.id': 'jupyter-3',\n",
    "                     'auto.offset.reset': \"earliest\"}"
   ]
  },
  {
   "cell_type": "code",
   "execution_count": null,
   "id": "general-heading",
   "metadata": {},
   "outputs": [],
   "source": []
  },
  {
   "cell_type": "code",
   "execution_count": null,
   "id": "searching-ideal",
   "metadata": {},
   "outputs": [],
   "source": []
  },
  {
   "cell_type": "code",
   "execution_count": null,
   "id": "special-halifax",
   "metadata": {},
   "outputs": [],
   "source": []
  },
  {
   "cell_type": "code",
   "execution_count": null,
   "id": "democratic-triangle",
   "metadata": {},
   "outputs": [],
   "source": []
  },
  {
   "cell_type": "code",
   "execution_count": 14,
   "id": "preliminary-average",
   "metadata": {},
   "outputs": [],
   "source": [
    "consumer = DeserializingConsumer(consumer_conf)\n",
    "consumer.subscribe([topic])\n",
    "\n",
    "while True:\n",
    "    try:\n",
    "        # SIGINT can't be handled when polling, limit timeout to 1 second.\n",
    "        msg = consumer.poll(1.0)\n",
    "        if msg is None:\n",
    "            continue\n",
    "        elif msg.error() is not None:\n",
    "            print(msg.error())\n",
    "            raise(nsg.error())\n",
    "            \n",
    "        valid_msg = msg\n",
    "        user = msg.value()\n",
    "        if user is not None:\n",
    "            print(user['timestamp'],user['sample'][0])\n",
    "            \n",
    "    except KeyboardInterrupt:\n",
    "        break\n",
    "\n",
    "consumer.close()"
   ]
  },
  {
   "cell_type": "code",
   "execution_count": 10,
   "id": "sunset-continuity",
   "metadata": {},
   "outputs": [
    {
     "data": {
      "text/plain": [
       "(1, 1615840917)"
      ]
     },
     "execution_count": 10,
     "metadata": {},
     "output_type": "execute_result"
    }
   ],
   "source": [
    "valid_msg.timestamp()"
   ]
  },
  {
   "cell_type": "code",
   "execution_count": null,
   "id": "becoming-craps",
   "metadata": {},
   "outputs": [],
   "source": []
  },
  {
   "cell_type": "code",
   "execution_count": 11,
   "id": "consolidated-identification",
   "metadata": {},
   "outputs": [
    {
     "data": {
      "text/plain": [
       "float"
      ]
     },
     "execution_count": 11,
     "metadata": {},
     "output_type": "execute_result"
    }
   ],
   "source": [
    "f = 1615840278.970943\n",
    "type(f)"
   ]
  },
  {
   "cell_type": "code",
   "execution_count": 12,
   "id": "honest-highland",
   "metadata": {},
   "outputs": [
    {
     "data": {
      "text/plain": [
       "({'timestamp': 1615840278.970943, 'sample': 1},)"
      ]
     },
     "execution_count": 12,
     "metadata": {},
     "output_type": "execute_result"
    }
   ],
   "source": [
    "{\"timestamp\": f, \"sample\": 1},"
   ]
  },
  {
   "cell_type": "code",
   "execution_count": null,
   "id": "returning-basis",
   "metadata": {},
   "outputs": [],
   "source": []
  }
 ],
 "metadata": {
  "kernelspec": {
   "display_name": "lsl-and-other-streams",
   "language": "python",
   "name": "lsl-and-other-streams"
  },
  "language_info": {
   "codemirror_mode": {
    "name": "ipython",
    "version": 3
   },
   "file_extension": ".py",
   "mimetype": "text/x-python",
   "name": "python",
   "nbconvert_exporter": "python",
   "pygments_lexer": "ipython3",
   "version": "3.9.2"
  }
 },
 "nbformat": 4,
 "nbformat_minor": 5
}
