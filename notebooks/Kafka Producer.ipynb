{
 "cells": [
  {
   "cell_type": "code",
   "execution_count": 1,
   "id": "desperate-cabinet",
   "metadata": {},
   "outputs": [],
   "source": [
    "from confluent_kafka import Producer\n",
    "from time import sleep"
   ]
  },
  {
   "cell_type": "code",
   "execution_count": null,
   "id": "accomplished-romance",
   "metadata": {},
   "outputs": [],
   "source": []
  },
  {
   "cell_type": "code",
   "execution_count": 2,
   "id": "sapphire-announcement",
   "metadata": {},
   "outputs": [],
   "source": [
    "topic = 'lsl-test-2'\n",
    "max_messages = 10\n",
    "pause_time = 10 #sec\n",
    "callback_timeout = 5 #sec\n",
    "\n",
    "conf = {\n",
    "    'bootstrap.servers': \"localhost:9092\",\n",
    "    'client.id': 'jupyter-kafka-producer'\n",
    "}"
   ]
  },
  {
   "cell_type": "code",
   "execution_count": 3,
   "id": "strategic-prairie",
   "metadata": {},
   "outputs": [],
   "source": [
    "def callback(error, msg):\n",
    "    if error is not None:\n",
    "        print(\"Failed to deliver message: %s: %s\" % (str(msg), str(error)))\n",
    "    else:\n",
    "        print(\"Message produced: %s\" % (str(msg)))"
   ]
  },
  {
   "cell_type": "code",
   "execution_count": null,
   "id": "assured-nursing",
   "metadata": {},
   "outputs": [],
   "source": []
  },
  {
   "cell_type": "code",
   "execution_count": 4,
   "id": "brazilian-mobility",
   "metadata": {},
   "outputs": [],
   "source": [
    "producer = Producer(conf)"
   ]
  },
  {
   "cell_type": "code",
   "execution_count": 5,
   "id": "pleasant-location",
   "metadata": {},
   "outputs": [
    {
     "name": "stdout",
     "output_type": "stream",
     "text": [
      "\n",
      "Sending message with key: 0\n",
      "Waiting for the callback\n",
      "Message produced: <cimpl.Message object at 0x1041c85c0>\n",
      "Making it sync by flushing\n",
      "Sleeping for 10 sec\n",
      "\n",
      "Sending message with key: 1\n",
      "Waiting for the callback\n",
      "Message produced: <cimpl.Message object at 0x1041c85c0>\n",
      "Making it sync by flushing\n",
      "Sleeping for 10 sec\n",
      "\n",
      "Sending message with key: 2\n",
      "Waiting for the callback\n",
      "Message produced: <cimpl.Message object at 0x1041c85c0>\n",
      "Making it sync by flushing\n",
      "Sleeping for 10 sec\n",
      "\n",
      "Sending message with key: 3\n",
      "Waiting for the callback\n",
      "Message produced: <cimpl.Message object at 0x1041c85c0>\n",
      "Making it sync by flushing\n",
      "Sleeping for 10 sec\n",
      "\n",
      "Sending message with key: 4\n",
      "Waiting for the callback\n",
      "Message produced: <cimpl.Message object at 0x1041c85c0>\n",
      "Making it sync by flushing\n",
      "Sleeping for 10 sec\n",
      "\n",
      "Sending message with key: 5\n",
      "Waiting for the callback\n",
      "Message produced: <cimpl.Message object at 0x1041c85c0>\n",
      "Making it sync by flushing\n",
      "Sleeping for 10 sec\n",
      "\n",
      "Sending message with key: 6\n",
      "Waiting for the callback\n",
      "Message produced: <cimpl.Message object at 0x1041c85c0>\n",
      "Making it sync by flushing\n",
      "Sleeping for 10 sec\n",
      "\n",
      "Sending message with key: 7\n",
      "Waiting for the callback\n",
      "Message produced: <cimpl.Message object at 0x1041c85c0>\n",
      "Making it sync by flushing\n",
      "Sleeping for 10 sec\n",
      "\n",
      "Sending message with key: 8\n",
      "Waiting for the callback\n",
      "Message produced: <cimpl.Message object at 0x1041c85c0>\n",
      "Making it sync by flushing\n",
      "Sleeping for 10 sec\n",
      "\n",
      "Sending message with key: 9\n",
      "Waiting for the callback\n",
      "Message produced: <cimpl.Message object at 0x1041c85c0>\n",
      "Making it sync by flushing\n",
      "Sleeping for 10 sec\n"
     ]
    }
   ],
   "source": [
    "for i in range(max_messages):\n",
    "    \n",
    "    print(\"\\nSending message with key: {}\".format(i))\n",
    "    producer.produce(\n",
    "        topic=topic, \n",
    "        key=str(i).encode(),\n",
    "        value=\"value of key: {}\".format(i),\n",
    "        callback=callback\n",
    "    )\n",
    "    \n",
    "    # Wait up to <callback_timeout> second for events. Callbacks will be invoked during\n",
    "    # this method call if the message is acknowledged.\n",
    "    print(\"Waiting for the callback\")\n",
    "    producer.poll(callback_timeout)\n",
    "    \n",
    "    print(\"Making it sync by flushing\")\n",
    "    producer.flush()\n",
    "    \n",
    "    print(\"Sleeping for {} sec\".format(pause_time))\n",
    "    sleep(pause_time)\n",
    "    "
   ]
  },
  {
   "cell_type": "code",
   "execution_count": null,
   "id": "tight-cooper",
   "metadata": {},
   "outputs": [],
   "source": []
  },
  {
   "cell_type": "code",
   "execution_count": null,
   "id": "searching-butter",
   "metadata": {},
   "outputs": [],
   "source": []
  },
  {
   "cell_type": "code",
   "execution_count": null,
   "id": "boring-confusion",
   "metadata": {},
   "outputs": [],
   "source": []
  },
  {
   "cell_type": "code",
   "execution_count": null,
   "id": "valuable-faculty",
   "metadata": {},
   "outputs": [],
   "source": []
  }
 ],
 "metadata": {
  "kernelspec": {
   "display_name": "lsl-and-other-streams",
   "language": "python",
   "name": "lsl-and-other-streams"
  },
  "language_info": {
   "codemirror_mode": {
    "name": "ipython",
    "version": 3
   },
   "file_extension": ".py",
   "mimetype": "text/x-python",
   "name": "python",
   "nbconvert_exporter": "python",
   "pygments_lexer": "ipython3",
   "version": "3.9.2"
  }
 },
 "nbformat": 4,
 "nbformat_minor": 5
}
